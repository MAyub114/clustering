{
 "cells": [
  {
   "cell_type": "markdown",
   "metadata": {},
   "source": [
    "# Video game clustering\n",
    "\n",
    "## Model building"
   ]
  },
  {
   "cell_type": "code",
   "execution_count": 1,
   "metadata": {},
   "outputs": [],
   "source": [
    "# Core libraries\n",
    "import pandas as pd\n",
    "import numpy as np\n",
    "\n",
    "# Imputation of missing values\n",
    "from fancyimpute import KNN\n",
    "\n",
    "# Models\n",
    "from sklearn.cluster import KMeans\n",
    "from sklearn.model_selection import train_test_split\n",
    "import sklearn.metrics as metrics\n",
    "from sklearn.preprocessing import OrdinalEncoder\n",
    "from sklearn.decomposition import PCA\n",
    "\n",
    "# Data visualization\n",
    "import matplotlib.pyplot as plt\n",
    "import seaborn as sns"
   ]
  },
  {
   "cell_type": "markdown",
   "metadata": {},
   "source": [
    "## Load processed data"
   ]
  },
  {
   "cell_type": "code",
   "execution_count": 2,
   "metadata": {},
   "outputs": [],
   "source": [
    "data = pd.read_csv(\"video_games_processed.csv\")"
   ]
  },
  {
   "cell_type": "markdown",
   "metadata": {},
   "source": [
    "## Encode categorical features"
   ]
  },
  {
   "cell_type": "code",
   "execution_count": 3,
   "metadata": {},
   "outputs": [
    {
     "data": {
      "text/html": [
       "<div>\n",
       "<style scoped>\n",
       "    .dataframe tbody tr th:only-of-type {\n",
       "        vertical-align: middle;\n",
       "    }\n",
       "\n",
       "    .dataframe tbody tr th {\n",
       "        vertical-align: top;\n",
       "    }\n",
       "\n",
       "    .dataframe thead th {\n",
       "        text-align: right;\n",
       "    }\n",
       "</style>\n",
       "<table border=\"1\" class=\"dataframe\">\n",
       "  <thead>\n",
       "    <tr style=\"text-align: right;\">\n",
       "      <th></th>\n",
       "      <th>name</th>\n",
       "      <th>developer</th>\n",
       "      <th>percent_positive</th>\n",
       "      <th>num_reviews</th>\n",
       "      <th>multiplayer</th>\n",
       "      <th>mature</th>\n",
       "    </tr>\n",
       "  </thead>\n",
       "  <tbody>\n",
       "    <tr>\n",
       "      <th>0</th>\n",
       "      <td>DOOM</td>\n",
       "      <td>id Software</td>\n",
       "      <td>92.0</td>\n",
       "      <td>42550.0</td>\n",
       "      <td>True</td>\n",
       "      <td>False</td>\n",
       "    </tr>\n",
       "    <tr>\n",
       "      <th>1</th>\n",
       "      <td>PLAYERUNKNOWN'S BATTLEGROUNDS</td>\n",
       "      <td>PUBG Corporation</td>\n",
       "      <td>49.0</td>\n",
       "      <td>836608.0</td>\n",
       "      <td>True</td>\n",
       "      <td>True</td>\n",
       "    </tr>\n",
       "    <tr>\n",
       "      <th>2</th>\n",
       "      <td>BATTLETECH</td>\n",
       "      <td>Harebrained Schemes</td>\n",
       "      <td>71.0</td>\n",
       "      <td>7030.0</td>\n",
       "      <td>True</td>\n",
       "      <td>False</td>\n",
       "    </tr>\n",
       "    <tr>\n",
       "      <th>3</th>\n",
       "      <td>DayZ</td>\n",
       "      <td>Bohemia Interactive</td>\n",
       "      <td>61.0</td>\n",
       "      <td>167115.0</td>\n",
       "      <td>True</td>\n",
       "      <td>False</td>\n",
       "    </tr>\n",
       "    <tr>\n",
       "      <th>4</th>\n",
       "      <td>EVE Online</td>\n",
       "      <td>CCP</td>\n",
       "      <td>74.0</td>\n",
       "      <td>11481.0</td>\n",
       "      <td>True</td>\n",
       "      <td>False</td>\n",
       "    </tr>\n",
       "  </tbody>\n",
       "</table>\n",
       "</div>"
      ],
      "text/plain": [
       "                            name            developer  percent_positive  \\\n",
       "0                           DOOM          id Software              92.0   \n",
       "1  PLAYERUNKNOWN'S BATTLEGROUNDS     PUBG Corporation              49.0   \n",
       "2                     BATTLETECH  Harebrained Schemes              71.0   \n",
       "3                           DayZ  Bohemia Interactive              61.0   \n",
       "4                     EVE Online                  CCP              74.0   \n",
       "\n",
       "   num_reviews  multiplayer  mature  \n",
       "0      42550.0         True   False  \n",
       "1     836608.0         True    True  \n",
       "2       7030.0         True   False  \n",
       "3     167115.0         True   False  \n",
       "4      11481.0         True   False  "
      ]
     },
     "execution_count": 3,
     "metadata": {},
     "output_type": "execute_result"
    }
   ],
   "source": [
    "data.head()"
   ]
  },
  {
   "cell_type": "code",
   "execution_count": 4,
   "metadata": {},
   "outputs": [],
   "source": [
    "categorical_columns = ['name', 'developer', 'multiplayer', 'mature']\n",
    "enc = OrdinalEncoder()\n",
    "data[categorical_columns] = enc.fit_transform(data[categorical_columns])"
   ]
  },
  {
   "cell_type": "code",
   "execution_count": 5,
   "metadata": {},
   "outputs": [
    {
     "data": {
      "text/html": [
       "<div>\n",
       "<style scoped>\n",
       "    .dataframe tbody tr th:only-of-type {\n",
       "        vertical-align: middle;\n",
       "    }\n",
       "\n",
       "    .dataframe tbody tr th {\n",
       "        vertical-align: top;\n",
       "    }\n",
       "\n",
       "    .dataframe thead th {\n",
       "        text-align: right;\n",
       "    }\n",
       "</style>\n",
       "<table border=\"1\" class=\"dataframe\">\n",
       "  <thead>\n",
       "    <tr style=\"text-align: right;\">\n",
       "      <th></th>\n",
       "      <th>name</th>\n",
       "      <th>developer</th>\n",
       "      <th>percent_positive</th>\n",
       "      <th>num_reviews</th>\n",
       "      <th>multiplayer</th>\n",
       "      <th>mature</th>\n",
       "    </tr>\n",
       "  </thead>\n",
       "  <tbody>\n",
       "    <tr>\n",
       "      <th>0</th>\n",
       "      <td>7498.0</td>\n",
       "      <td>16796.0</td>\n",
       "      <td>92.0</td>\n",
       "      <td>42550.0</td>\n",
       "      <td>1.0</td>\n",
       "      <td>0.0</td>\n",
       "    </tr>\n",
       "    <tr>\n",
       "      <th>1</th>\n",
       "      <td>23455.0</td>\n",
       "      <td>10728.0</td>\n",
       "      <td>49.0</td>\n",
       "      <td>836608.0</td>\n",
       "      <td>1.0</td>\n",
       "      <td>1.0</td>\n",
       "    </tr>\n",
       "    <tr>\n",
       "      <th>2</th>\n",
       "      <td>2749.0</td>\n",
       "      <td>6329.0</td>\n",
       "      <td>71.0</td>\n",
       "      <td>7030.0</td>\n",
       "      <td>1.0</td>\n",
       "      <td>0.0</td>\n",
       "    </tr>\n",
       "    <tr>\n",
       "      <th>3</th>\n",
       "      <td>7963.0</td>\n",
       "      <td>2031.0</td>\n",
       "      <td>61.0</td>\n",
       "      <td>167115.0</td>\n",
       "      <td>1.0</td>\n",
       "      <td>0.0</td>\n",
       "    </tr>\n",
       "    <tr>\n",
       "      <th>4</th>\n",
       "      <td>9902.0</td>\n",
       "      <td>2343.0</td>\n",
       "      <td>74.0</td>\n",
       "      <td>11481.0</td>\n",
       "      <td>1.0</td>\n",
       "      <td>0.0</td>\n",
       "    </tr>\n",
       "  </tbody>\n",
       "</table>\n",
       "</div>"
      ],
      "text/plain": [
       "      name  developer  percent_positive  num_reviews  multiplayer  mature\n",
       "0   7498.0    16796.0              92.0      42550.0          1.0     0.0\n",
       "1  23455.0    10728.0              49.0     836608.0          1.0     1.0\n",
       "2   2749.0     6329.0              71.0       7030.0          1.0     0.0\n",
       "3   7963.0     2031.0              61.0     167115.0          1.0     0.0\n",
       "4   9902.0     2343.0              74.0      11481.0          1.0     0.0"
      ]
     },
     "execution_count": 5,
     "metadata": {},
     "output_type": "execute_result"
    }
   ],
   "source": [
    "data.head()"
   ]
  },
  {
   "cell_type": "markdown",
   "metadata": {},
   "source": [
    "## Train-test split\n",
    "\n"
   ]
  },
  {
   "cell_type": "code",
   "execution_count": 6,
   "metadata": {},
   "outputs": [
    {
     "name": "stdout",
     "output_type": "stream",
     "text": [
      "Training data size = (32598, 6)\n",
      "Test data size = (8150, 6)\n"
     ]
    }
   ],
   "source": [
    "train, test = train_test_split(data, test_size=0.2)\n",
    "print(f\"Training data size = {train.shape}\")\n",
    "print(f\"Test data size = {test.shape}\")"
   ]
  },
  {
   "cell_type": "markdown",
   "metadata": {},
   "source": [
    "## Principal Component Analysis (PCA)\n",
    "\n",
    "* Reduce our features to just 2\n",
    "* KMeans algorithm (for clustering) doesn't work well in high dimensions"
   ]
  },
  {
   "cell_type": "code",
   "execution_count": 7,
   "metadata": {},
   "outputs": [],
   "source": [
    "pca = PCA(n_components=2)\n",
    "train_pca = pca.fit_transform(train)\n",
    "test_pca = pca.fit_transform(test)"
   ]
  },
  {
   "cell_type": "code",
   "execution_count": 8,
   "metadata": {},
   "outputs": [
    {
     "name": "stdout",
     "output_type": "stream",
     "text": [
      "Cumulative variance explained by 2 principal components: 92.3%\n"
     ]
    }
   ],
   "source": [
    "explained = pca.explained_variance_ratio_\n",
    "print(f\"Cumulative variance explained by 2 principal components: {round(100 * np.sum(explained), 1)}%\")"
   ]
  },
  {
   "cell_type": "code",
   "execution_count": 9,
   "metadata": {},
   "outputs": [
    {
     "data": {
      "text/html": [
       "<div>\n",
       "<style scoped>\n",
       "    .dataframe tbody tr th:only-of-type {\n",
       "        vertical-align: middle;\n",
       "    }\n",
       "\n",
       "    .dataframe tbody tr th {\n",
       "        vertical-align: top;\n",
       "    }\n",
       "\n",
       "    .dataframe thead th {\n",
       "        text-align: right;\n",
       "    }\n",
       "</style>\n",
       "<table border=\"1\" class=\"dataframe\">\n",
       "  <thead>\n",
       "    <tr style=\"text-align: right;\">\n",
       "      <th></th>\n",
       "      <th>name</th>\n",
       "      <th>developer</th>\n",
       "      <th>percent_positive</th>\n",
       "      <th>num_reviews</th>\n",
       "      <th>multiplayer</th>\n",
       "      <th>mature</th>\n",
       "    </tr>\n",
       "  </thead>\n",
       "  <tbody>\n",
       "    <tr>\n",
       "      <th>PC_1</th>\n",
       "      <td>0.127896</td>\n",
       "      <td>0.001115</td>\n",
       "      <td>0.000022</td>\n",
       "      <td>0.991787</td>\n",
       "      <td>0.000002</td>\n",
       "      <td>1.361434e-06</td>\n",
       "    </tr>\n",
       "    <tr>\n",
       "      <th>PC_2</th>\n",
       "      <td>0.991043</td>\n",
       "      <td>0.038585</td>\n",
       "      <td>0.000040</td>\n",
       "      <td>0.127844</td>\n",
       "      <td>0.000003</td>\n",
       "      <td>1.964534e-07</td>\n",
       "    </tr>\n",
       "  </tbody>\n",
       "</table>\n",
       "</div>"
      ],
      "text/plain": [
       "          name  developer  percent_positive  num_reviews  multiplayer  \\\n",
       "PC_1  0.127896   0.001115          0.000022     0.991787     0.000002   \n",
       "PC_2  0.991043   0.038585          0.000040     0.127844     0.000003   \n",
       "\n",
       "            mature  \n",
       "PC_1  1.361434e-06  \n",
       "PC_2  1.964534e-07  "
      ]
     },
     "execution_count": 9,
     "metadata": {},
     "output_type": "execute_result"
    }
   ],
   "source": [
    "# Features by importance\n",
    "dataset_pca = pd.DataFrame(abs(pca.components_), columns=train.columns, index=['PC_1', 'PC_2'])\n",
    "dataset_pca\n"
   ]
  },
  {
   "cell_type": "code",
   "execution_count": 24,
   "metadata": {},
   "outputs": [
    {
     "name": "stdout",
     "output_type": "stream",
     "text": [
      "Most important features (must exceed 0.3):\n",
      "PC 1:\n",
      " num_reviews    0.991787\n",
      "\n",
      "PC 2:\n",
      " name    0.991043\n",
      "\n",
      "\n"
     ]
    }
   ],
   "source": [
    "importance_threshold = 0.3\n",
    "print(f\"Most important features (must exceed {importance_threshold}):\")\n",
    "print('PC 1:\\n', (dataset_pca[dataset_pca > importance_threshold].iloc[0]).dropna().to_string())   \n",
    "print('\\nPC 2:\\n', (dataset_pca[dataset_pca > importance_threshold].iloc[1]).dropna().to_string())\n",
    "print(\"\\n\")\n"
   ]
  },
  {
   "cell_type": "markdown",
   "metadata": {},
   "source": [
    "## Choosing the number of clusters for K-Means\n",
    "\n",
    "Two methods are commonly used to determine how many clusters to choose:\n",
    "* Elbow method\n",
    "* Silhouette method\n",
    "\n",
    "\n",
    "### Elbow method\n",
    "\n",
    "* Choose a range of candidate values of K (e.g. 1 to 10)\n",
    "* Calculate the average distance from centroid for each value\n",
    "* Plot and find \"elbow\"\n",
    "\n",
    "\n",
    "### Silhouette method\n",
    "\n",
    "* Choose a range of candidate values of K (e.g. 1 to 10)\n",
    "* Plot silhouettes for each value of K\n",
    "* Silhouette calculation:\n",
    "  * Let a(i) = average distance from i to all points within same cluster\n",
    "  * Let b(i) = average distance from i to all points from closest neighbouring cluster\n",
    "  * Silhoutte cofficient s(i) = (b(i) - a(i)) / larger of b(i) and a(i)\n",
    "* Ideal silhouette value = 1\n",
    "* Worst possible silhouette value = -1\n",
    "\n",
    "\n",
    "### Elbow method to identify number of clusters\n",
    "\n",
    "* K is number of clusters\n",
    "* We repeat the calculation setting K to 1 to 12 in a loop\n",
    "* The WSS (Within-Cluster-Sum of squared) score is calculated for each value of K\n"
   ]
  },
  {
   "cell_type": "code",
   "execution_count": 11,
   "metadata": {},
   "outputs": [],
   "source": [
    "def clusters_elbow(data, max_k):\n",
    "    K = range(1, max_k)\n",
    "    wss = []\n",
    "    for k in K:\n",
    "        kmeans = KMeans(n_clusters=k, init='k-means++')\n",
    "        kmeans.fit(data)\n",
    "        wss_iter = kmeans.inertia_\n",
    "        wss.append(wss_iter)\n",
    "    cluster_centres = pd.DataFrame({'Clusters': K, 'WSS': wss})\n",
    "    return cluster_centres"
   ]
  },
  {
   "cell_type": "code",
   "execution_count": 12,
   "metadata": {},
   "outputs": [],
   "source": [
    "clusters_train = clusters_elbow(data=train_pca, max_k=12)\n",
    "clusters_test = clusters_elbow(data=test_pca, max_k=12)\n"
   ]
  },
  {
   "cell_type": "code",
   "execution_count": 13,
   "metadata": {},
   "outputs": [
    {
     "data": {
      "image/png": "[encoded data removed]",
      "text/plain": [
       "<Figure size 432x288 with 1 Axes>"
      ]
     },
     "metadata": {
      "needs_background": "light"
     },
     "output_type": "display_data"
    }
   ],
   "source": [
    "# Elbow plot for training data\n",
    "sns.scatterplot(x='Clusters', y='WSS', data=clusters_train, marker=\"o\")\n",
    "plt.title(\"Training data - elbow\")\n",
    "plt.show()"
   ]
  },
  {
   "cell_type": "code",
   "execution_count": 14,
   "metadata": {},
   "outputs": [
    {
     "data": {
      "image/png": "[encoded data removed]",
      "text/plain": [
       "<Figure size 432x288 with 1 Axes>"
      ]
     },
     "metadata": {
      "needs_background": "light"
     },
     "output_type": "display_data"
    }
   ],
   "source": [
    "# Elbow plot for test data\n",
    "sns.scatterplot(x='Clusters', y='WSS', data=clusters_test, marker=\"o\")\n",
    "plt.title(\"Test data - elbow\")\n",
    "plt.show()"
   ]
  },
  {
   "cell_type": "markdown",
   "metadata": {},
   "source": [
    "### Silhouette method to identify number of clusters"
   ]
  },
  {
   "cell_type": "code",
   "execution_count": 15,
   "metadata": {},
   "outputs": [],
   "source": [
    "def clusters_silhouette(data, max_k):\n",
    "    for k in range(2, max_k+1):\n",
    "        clusterer = KMeans(n_clusters=k, init='k-means++', random_state=200)\n",
    "        cluster_labels = clusterer.fit_predict(data)\n",
    "        silhouette_avg = metrics.silhouette_score(data, cluster_labels)\n",
    "        print(f\"Silhouette score for {k} clusters = {silhouette_avg}\")"
   ]
  },
  {
   "cell_type": "code",
   "execution_count": 16,
   "metadata": {},
   "outputs": [
    {
     "name": "stdout",
     "output_type": "stream",
     "text": [
      "Training data\n",
      "Silhouette score for 2 clusters = 0.5967765379348898\n",
      "Silhouette score for 3 clusters = 0.6019491379118691\n",
      "Silhouette score for 4 clusters = 0.5514273930196296\n",
      "Silhouette score for 5 clusters = 0.5566455852924208\n",
      "Silhouette score for 6 clusters = 0.5271543814937187\n",
      "Silhouette score for 7 clusters = 0.5280090396536142\n",
      "Silhouette score for 8 clusters = 0.5095718317878285\n",
      "Silhouette score for 9 clusters = 0.5107303076028521\n",
      "Silhouette score for 10 clusters = 0.4919265005031299\n",
      "Silhouette score for 11 clusters = 0.5003849660783339\n",
      "Silhouette score for 12 clusters = 0.4792861341750178\n"
     ]
    }
   ],
   "source": [
    "print(\"Training data\")\n",
    "clusters_silhouette(data=train_pca, max_k=12)"
   ]
  }
 ],
 "metadata": {
  "interpreter": {
   "hash": "a6131446fa6e2aa3a18dd60ea0228b4a97cedd581566afb11b47d08d5f51eadf"
  },
  "kernelspec": {
   "display_name": "Python 3.8.13 ('py38_default')",
   "language": "python",
   "name": "python3"
  },
  "language_info": {
   "codemirror_mode": {
    "name": "ipython",
    "version": 3
   },
   "file_extension": ".py",
   "mimetype": "text/x-python",
   "name": "python",
   "nbconvert_exporter": "python",
   "pygments_lexer": "ipython3",
   "version": "3.8.13"
  },
  "orig_nbformat": 4
 },
 "nbformat": 4,
 "nbformat_minor": 2
}
