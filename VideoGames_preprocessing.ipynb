{
 "cells": [
  {
   "cell_type": "markdown",
   "metadata": {},
   "source": [
    "# Video game clustering\n",
    "\n",
    "## Preprocessing the data\n",
    "\n",
    "* Handle missing data\n",
    "* Use KNN for imputation\n",
    "* Save processed data"
   ]
  },
  {
   "cell_type": "code",
   "execution_count": 1,
   "metadata": {},
   "outputs": [],
   "source": [
    "# Core libraries\n",
    "import pandas as pd\n",
    "import numpy as np\n",
    "\n",
    "# Imputation of missing values\n",
    "from fancyimpute import KNN\n",
    "\n",
    "# Models\n",
    "from sklearn.cluster import KMeans\n",
    "from sklearn.preprocessing import OrdinalEncoder\n",
    "from sklearn.decomposition import PCA\n",
    "\n",
    "# Data visualization\n",
    "import matplotlib.pyplot as plt\n",
    "import seaborn as sns"
   ]
  },
  {
   "cell_type": "markdown",
   "metadata": {},
   "source": [
    "## Load data\n",
    "\n",
    "Data columns:\n",
    "\n",
    "| Column           | Description                           |\n",
    "|------------------|---------------------------------------|\n",
    "| name             | Name of the game                      |\n",
    "| release_date     | Date of when the game was released    |\n",
    "| developer        | Game developer                        |\n",
    "| achievements     | How many achievements are in the game |\n",
    "| original_price   | Price of the game                     |\n",
    "| percent_positive | Percentage of positive reviews        |\n",
    "| num_reviews      | Number of reviews                     |\n",
    "| multiplayer      | Is the game multiplayer or not        |\n",
    "| mature           | Is the game suitable for kids or not  |"
   ]
  },
  {
   "cell_type": "code",
   "execution_count": 2,
   "metadata": {},
   "outputs": [],
   "source": [
    "data = pd.read_csv(\"video_games.csv\")"
   ]
  },
  {
   "cell_type": "markdown",
   "metadata": {},
   "source": [
    "## EDA"
   ]
  },
  {
   "cell_type": "code",
   "execution_count": 3,
   "metadata": {},
   "outputs": [
    {
     "data": {
      "text/html": [
       "<div>\n",
       "<style scoped>\n",
       "    .dataframe tbody tr th:only-of-type {\n",
       "        vertical-align: middle;\n",
       "    }\n",
       "\n",
       "    .dataframe tbody tr th {\n",
       "        vertical-align: top;\n",
       "    }\n",
       "\n",
       "    .dataframe thead th {\n",
       "        text-align: right;\n",
       "    }\n",
       "</style>\n",
       "<table border=\"1\" class=\"dataframe\">\n",
       "  <thead>\n",
       "    <tr style=\"text-align: right;\">\n",
       "      <th></th>\n",
       "      <th>name</th>\n",
       "      <th>release_date</th>\n",
       "      <th>developer</th>\n",
       "      <th>achievements</th>\n",
       "      <th>original_price</th>\n",
       "      <th>percent_positive</th>\n",
       "      <th>num_reviews</th>\n",
       "      <th>multiplayer</th>\n",
       "      <th>mature</th>\n",
       "    </tr>\n",
       "  </thead>\n",
       "  <tbody>\n",
       "    <tr>\n",
       "      <th>0</th>\n",
       "      <td>DOOM</td>\n",
       "      <td>May 12, 2016</td>\n",
       "      <td>id Software</td>\n",
       "      <td>54.0</td>\n",
       "      <td>$19.99</td>\n",
       "      <td>92%</td>\n",
       "      <td>42550.0</td>\n",
       "      <td>True</td>\n",
       "      <td>False</td>\n",
       "    </tr>\n",
       "    <tr>\n",
       "      <th>1</th>\n",
       "      <td>PLAYERUNKNOWN'S BATTLEGROUNDS</td>\n",
       "      <td>Dec 21, 2017</td>\n",
       "      <td>PUBG Corporation</td>\n",
       "      <td>37.0</td>\n",
       "      <td>$29.99</td>\n",
       "      <td>49%</td>\n",
       "      <td>836608.0</td>\n",
       "      <td>True</td>\n",
       "      <td>True</td>\n",
       "    </tr>\n",
       "    <tr>\n",
       "      <th>2</th>\n",
       "      <td>BATTLETECH</td>\n",
       "      <td>Apr 24, 2018</td>\n",
       "      <td>Harebrained Schemes</td>\n",
       "      <td>128.0</td>\n",
       "      <td>$39.99</td>\n",
       "      <td>71%</td>\n",
       "      <td>7030.0</td>\n",
       "      <td>True</td>\n",
       "      <td>False</td>\n",
       "    </tr>\n",
       "    <tr>\n",
       "      <th>3</th>\n",
       "      <td>DayZ</td>\n",
       "      <td>Dec 13, 2018</td>\n",
       "      <td>Bohemia Interactive</td>\n",
       "      <td>NaN</td>\n",
       "      <td>$44.99</td>\n",
       "      <td>61%</td>\n",
       "      <td>167115.0</td>\n",
       "      <td>True</td>\n",
       "      <td>False</td>\n",
       "    </tr>\n",
       "    <tr>\n",
       "      <th>4</th>\n",
       "      <td>EVE Online</td>\n",
       "      <td>May 6, 2003</td>\n",
       "      <td>CCP</td>\n",
       "      <td>NaN</td>\n",
       "      <td>Free</td>\n",
       "      <td>74%</td>\n",
       "      <td>11481.0</td>\n",
       "      <td>True</td>\n",
       "      <td>False</td>\n",
       "    </tr>\n",
       "  </tbody>\n",
       "</table>\n",
       "</div>"
      ],
      "text/plain": [
       "                            name  release_date            developer  \\\n",
       "0                           DOOM  May 12, 2016          id Software   \n",
       "1  PLAYERUNKNOWN'S BATTLEGROUNDS  Dec 21, 2017     PUBG Corporation   \n",
       "2                     BATTLETECH  Apr 24, 2018  Harebrained Schemes   \n",
       "3                           DayZ  Dec 13, 2018  Bohemia Interactive   \n",
       "4                     EVE Online   May 6, 2003                  CCP   \n",
       "\n",
       "   achievements original_price percent_positive  num_reviews multiplayer  \\\n",
       "0          54.0         $19.99              92%      42550.0        True   \n",
       "1          37.0         $29.99              49%     836608.0        True   \n",
       "2         128.0         $39.99              71%       7030.0        True   \n",
       "3           NaN         $44.99              61%     167115.0        True   \n",
       "4           NaN           Free              74%      11481.0        True   \n",
       "\n",
       "   mature  \n",
       "0   False  \n",
       "1    True  \n",
       "2   False  \n",
       "3   False  \n",
       "4   False  "
      ]
     },
     "execution_count": 3,
     "metadata": {},
     "output_type": "execute_result"
    }
   ],
   "source": [
    "data.head()"
   ]
  },
  {
   "cell_type": "code",
   "execution_count": 4,
   "metadata": {},
   "outputs": [
    {
     "data": {
      "text/plain": [
       "name                 object\n",
       "release_date         object\n",
       "developer            object\n",
       "achievements        float64\n",
       "original_price       object\n",
       "percent_positive     object\n",
       "num_reviews         float64\n",
       "multiplayer          object\n",
       "mature                 bool\n",
       "dtype: object"
      ]
     },
     "execution_count": 4,
     "metadata": {},
     "output_type": "execute_result"
    }
   ],
   "source": [
    "data.dtypes"
   ]
  },
  {
   "cell_type": "markdown",
   "metadata": {},
   "source": [
    "### Data columns\n",
    "\n",
    "* name. Text string. Game title.\n",
    "* release_date (Drop this column). Text string. The year could potentially be used as a clustering feature but in this first version, it will be removed. \n",
    "* developer. Text string. \n",
    "* achievements (Drop this column). Floating point number. No relation with determining the game genre.\n",
    "* original_price (Drop this column). Text string. Requires careful processing to extract the price as an integer. Dropped from analysis for now but would like to include in later versions.\n",
    "* percent_positive. Text string. \n",
    "* num_reviews. Floating point number.\n",
    "* multiplayer. Text string. \n",
    "* mature. Boolean.\n",
    "\n",
    "### Version 1 model\n",
    "\n",
    "* Retain: name, developer, percent_positive, num_reviews, multiplayer, mature\n",
    "* Remove: release_date, achievements, original_price"
   ]
  },
  {
   "cell_type": "code",
   "execution_count": 5,
   "metadata": {},
   "outputs": [
    {
     "name": "stdout",
     "output_type": "stream",
     "text": [
      "name ['DOOM' \"PLAYERUNKNOWN'S BATTLEGROUNDS\" 'BATTLETECH' 'DayZ' 'EVE Online'\n",
      " 'Grand Theft Auto V: Premium Online Edition' 'Devil May Cry 5'\n",
      " 'Human: Fall Flat' 'They Are Billions' 'Warhammer: Chaosbane']\n",
      "\n",
      "release_date ['May 12, 2016' 'Dec 21, 2017' 'Apr 24, 2018' 'Dec 13, 2018' 'May 6, 2003'\n",
      " nan 'Mar 7, 2019' 'Jul 22, 2016' 'Dec 12, 2017' 'May 31, 2019']\n",
      "\n",
      "developer ['id Software' 'PUBG Corporation' 'Harebrained Schemes'\n",
      " 'Bohemia Interactive' 'CCP' 'Rockstar North' 'CAPCOM Co., Ltd.'\n",
      " 'No Brakes Games' 'Numantian Games' 'Eko Software']\n",
      "\n",
      "achievements [ 54.  37. 128.  nan  51.  55.  34.  43.  72.  41.]\n",
      "\n",
      "original_price ['$19.99' '$29.99' '$39.99' '$44.99' 'Free' nan '$59.99' '$14.99' '$49.99'\n",
      " 'Free to Play']\n",
      "\n",
      "percent_positive ['92%' '49%' '71%' '61%' '74%' nan '91%' '85%' '44%' '83%']\n",
      "\n",
      "num_reviews [ 42550. 836608.   7030. 167115.  11481.     nan   9645.  23763.  12127.\n",
      "    904.]\n",
      "\n",
      "multiplayer [True False nan]\n",
      "\n",
      "mature [False  True]\n",
      "\n"
     ]
    }
   ],
   "source": [
    "for column in data.columns:\n",
    "    print(column, data[column].unique()[:10])\n",
    "    print(\"\")\n"
   ]
  },
  {
   "cell_type": "markdown",
   "metadata": {},
   "source": [
    "## Data preprocessing\n",
    "\n",
    "### Drop columns\n",
    "\n",
    "* Remove: release_date, achievements, original_price"
   ]
  },
  {
   "cell_type": "code",
   "execution_count": 6,
   "metadata": {},
   "outputs": [],
   "source": [
    "data.drop(columns=['release_date', 'achievements', 'original_price'], inplace=True)"
   ]
  },
  {
   "cell_type": "code",
   "execution_count": 7,
   "metadata": {},
   "outputs": [
    {
     "data": {
      "text/html": [
       "<div>\n",
       "<style scoped>\n",
       "    .dataframe tbody tr th:only-of-type {\n",
       "        vertical-align: middle;\n",
       "    }\n",
       "\n",
       "    .dataframe tbody tr th {\n",
       "        vertical-align: top;\n",
       "    }\n",
       "\n",
       "    .dataframe thead th {\n",
       "        text-align: right;\n",
       "    }\n",
       "</style>\n",
       "<table border=\"1\" class=\"dataframe\">\n",
       "  <thead>\n",
       "    <tr style=\"text-align: right;\">\n",
       "      <th></th>\n",
       "      <th>name</th>\n",
       "      <th>developer</th>\n",
       "      <th>percent_positive</th>\n",
       "      <th>num_reviews</th>\n",
       "      <th>multiplayer</th>\n",
       "      <th>mature</th>\n",
       "    </tr>\n",
       "  </thead>\n",
       "  <tbody>\n",
       "    <tr>\n",
       "      <th>0</th>\n",
       "      <td>DOOM</td>\n",
       "      <td>id Software</td>\n",
       "      <td>92%</td>\n",
       "      <td>42550.0</td>\n",
       "      <td>True</td>\n",
       "      <td>False</td>\n",
       "    </tr>\n",
       "    <tr>\n",
       "      <th>1</th>\n",
       "      <td>PLAYERUNKNOWN'S BATTLEGROUNDS</td>\n",
       "      <td>PUBG Corporation</td>\n",
       "      <td>49%</td>\n",
       "      <td>836608.0</td>\n",
       "      <td>True</td>\n",
       "      <td>True</td>\n",
       "    </tr>\n",
       "    <tr>\n",
       "      <th>2</th>\n",
       "      <td>BATTLETECH</td>\n",
       "      <td>Harebrained Schemes</td>\n",
       "      <td>71%</td>\n",
       "      <td>7030.0</td>\n",
       "      <td>True</td>\n",
       "      <td>False</td>\n",
       "    </tr>\n",
       "    <tr>\n",
       "      <th>3</th>\n",
       "      <td>DayZ</td>\n",
       "      <td>Bohemia Interactive</td>\n",
       "      <td>61%</td>\n",
       "      <td>167115.0</td>\n",
       "      <td>True</td>\n",
       "      <td>False</td>\n",
       "    </tr>\n",
       "    <tr>\n",
       "      <th>4</th>\n",
       "      <td>EVE Online</td>\n",
       "      <td>CCP</td>\n",
       "      <td>74%</td>\n",
       "      <td>11481.0</td>\n",
       "      <td>True</td>\n",
       "      <td>False</td>\n",
       "    </tr>\n",
       "  </tbody>\n",
       "</table>\n",
       "</div>"
      ],
      "text/plain": [
       "                            name            developer percent_positive  \\\n",
       "0                           DOOM          id Software              92%   \n",
       "1  PLAYERUNKNOWN'S BATTLEGROUNDS     PUBG Corporation              49%   \n",
       "2                     BATTLETECH  Harebrained Schemes              71%   \n",
       "3                           DayZ  Bohemia Interactive              61%   \n",
       "4                     EVE Online                  CCP              74%   \n",
       "\n",
       "   num_reviews multiplayer  mature  \n",
       "0      42550.0        True   False  \n",
       "1     836608.0        True    True  \n",
       "2       7030.0        True   False  \n",
       "3     167115.0        True   False  \n",
       "4      11481.0        True   False  "
      ]
     },
     "execution_count": 7,
     "metadata": {},
     "output_type": "execute_result"
    }
   ],
   "source": [
    "data.head()"
   ]
  },
  {
   "cell_type": "markdown",
   "metadata": {},
   "source": [
    "percent_positive\n",
    "\n",
    "* Text string, format is an integer followed by the % sign\n",
    "* Contains NaNs\n",
    "* Strategy is to remove the % symbol and convert to integer\n",
    "* Example \"92%\" is changed to 92.0"
   ]
  },
  {
   "cell_type": "code",
   "execution_count": 8,
   "metadata": {},
   "outputs": [
    {
     "data": {
      "text/plain": [
       "array(['92%', '49%', '71%', '61%', '74%', nan, '91%', '85%', '44%', '83%',\n",
       "       '84%', '78%', '51%', '75%', '94%', '77%', '88%', '97%', '70%',\n",
       "       '90%', '63%', '81%', '60%', '96%', '87%', '68%', '86%', '100%',\n",
       "       '95%', '80%', '93%', '82%', '52%', '72%', '79%', '98%', '64%',\n",
       "       '69%', '89%', '54%', '76%', '73%', '55%', '65%', '59%', '45%',\n",
       "       '57%', '67%', '62%', '46%', '66%', '27%', '56%', '37%', '53%',\n",
       "       '99%', '42%', '50%', '48%', '58%', '41%', '43%', '40%', '34%',\n",
       "       '47%', '38%', '25%', '15%', '33%', '39%', '21%', '30%', '23%',\n",
       "       '24%', '35%', '28%', '36%', '31%', '29%', '20%', '9%', '0%', '10%',\n",
       "       '17%', '8%', '26%', '32%', '18%', '13%', '22%', '19%', '4%', '14%',\n",
       "       '5%', '6%', '7%', '16%', '12%', '3%', '2%', '11%'], dtype=object)"
      ]
     },
     "execution_count": 8,
     "metadata": {},
     "output_type": "execute_result"
    }
   ],
   "source": [
    "data['percent_positive'].unique()"
   ]
  },
  {
   "cell_type": "code",
   "execution_count": 9,
   "metadata": {},
   "outputs": [],
   "source": [
    "# Remove the % sign\n",
    "data['percent_positive'] = data['percent_positive'].str.replace(\"%\", \"\")\n",
    "\n",
    "# Convert from text string to float. Filter on non-NaNs otherwise conversion won't work\n",
    "data.loc[data['percent_positive'].notnull(), 'percent_positive'] = data.loc[data['percent_positive'].notnull(), 'percent_positive'].apply(float)"
   ]
  },
  {
   "cell_type": "code",
   "execution_count": 10,
   "metadata": {},
   "outputs": [
    {
     "data": {
      "text/plain": [
       "0        92.0\n",
       "1        49.0\n",
       "2        71.0\n",
       "3        61.0\n",
       "4        74.0\n",
       "         ... \n",
       "40828     NaN\n",
       "40829     NaN\n",
       "40830     NaN\n",
       "40831     NaN\n",
       "40832     NaN\n",
       "Name: percent_positive, Length: 40833, dtype: object"
      ]
     },
     "execution_count": 10,
     "metadata": {},
     "output_type": "execute_result"
    }
   ],
   "source": [
    "data['percent_positive']"
   ]
  },
  {
   "cell_type": "markdown",
   "metadata": {},
   "source": [
    "### num_reviews\n",
    "\n",
    "* Floating point values\n",
    "* Contains NaNs"
   ]
  },
  {
   "cell_type": "code",
   "execution_count": 11,
   "metadata": {},
   "outputs": [
    {
     "data": {
      "text/plain": [
       "0         42550.0\n",
       "1        836608.0\n",
       "2          7030.0\n",
       "3        167115.0\n",
       "4         11481.0\n",
       "           ...   \n",
       "40828         NaN\n",
       "40829         NaN\n",
       "40830         NaN\n",
       "40831         NaN\n",
       "40832         NaN\n",
       "Name: num_reviews, Length: 40833, dtype: float64"
      ]
     },
     "execution_count": 11,
     "metadata": {},
     "output_type": "execute_result"
    }
   ],
   "source": [
    "data['num_reviews']"
   ]
  },
  {
   "cell_type": "code",
   "execution_count": 12,
   "metadata": {},
   "outputs": [
    {
     "data": {
      "text/plain": [
       "23470"
      ]
     },
     "execution_count": 12,
     "metadata": {},
     "output_type": "execute_result"
    }
   ],
   "source": [
    "data['num_reviews'].isnull().sum()"
   ]
  },
  {
   "cell_type": "markdown",
   "metadata": {},
   "source": [
    "### multiplayer\n",
    "\n",
    "* Boolean. 29233 False. 11080 True\n",
    "* Contains 520 NaNs"
   ]
  },
  {
   "cell_type": "code",
   "execution_count": 13,
   "metadata": {},
   "outputs": [
    {
     "data": {
      "text/plain": [
       "False    29233\n",
       "True     11080\n",
       "Name: multiplayer, dtype: int64"
      ]
     },
     "execution_count": 13,
     "metadata": {},
     "output_type": "execute_result"
    }
   ],
   "source": [
    "data['multiplayer'].value_counts()"
   ]
  },
  {
   "cell_type": "code",
   "execution_count": 14,
   "metadata": {},
   "outputs": [
    {
     "data": {
      "text/plain": [
       "520"
      ]
     },
     "execution_count": 14,
     "metadata": {},
     "output_type": "execute_result"
    }
   ],
   "source": [
    "data['multiplayer'].isnull().sum()"
   ]
  },
  {
   "cell_type": "markdown",
   "metadata": {},
   "source": [
    "### mature\n",
    "\n",
    "* Boolean. 37936 False. 2897 True\n",
    "* No NaNs"
   ]
  },
  {
   "cell_type": "code",
   "execution_count": 15,
   "metadata": {},
   "outputs": [
    {
     "data": {
      "text/plain": [
       "False    37936\n",
       "True      2897\n",
       "Name: mature, dtype: int64"
      ]
     },
     "execution_count": 15,
     "metadata": {},
     "output_type": "execute_result"
    }
   ],
   "source": [
    "data['mature'].value_counts()"
   ]
  },
  {
   "cell_type": "markdown",
   "metadata": {},
   "source": [
    "### Handle missing values\n",
    "\n",
    "* \"Name\" column has 16 empty values. We cannot reconstruct the missing names so the rows are ignored\n",
    "* Drop rows that have no values across four key features: developer, multiplayer, percent_positive, num_reviews\n",
    "* Convert categorical labels to ordinal\n",
    "* Use K-nearest neighbours to impute missing values"
   ]
  },
  {
   "cell_type": "code",
   "execution_count": 16,
   "metadata": {},
   "outputs": [
    {
     "data": {
      "text/plain": [
       "name                   16\n",
       "developer             343\n",
       "percent_positive    23470\n",
       "num_reviews         23470\n",
       "multiplayer           520\n",
       "mature                  0\n",
       "dtype: int64"
      ]
     },
     "execution_count": 16,
     "metadata": {},
     "output_type": "execute_result"
    }
   ],
   "source": [
    "# \"Name\" has 16 rows that are empty. We cannot reconstruct the missing names so the rows are ignored  \n",
    "data.isnull().sum()"
   ]
  },
  {
   "cell_type": "code",
   "execution_count": 17,
   "metadata": {},
   "outputs": [],
   "source": [
    "# Ignore the empty names\n",
    "nans = data['name'].isnull()\n",
    "data = data[~nans]"
   ]
  },
  {
   "cell_type": "code",
   "execution_count": 18,
   "metadata": {},
   "outputs": [
    {
     "data": {
      "text/plain": [
       "name                    0\n",
       "developer             327\n",
       "percent_positive    23454\n",
       "num_reviews         23454\n",
       "multiplayer           508\n",
       "mature                  0\n",
       "dtype: int64"
      ]
     },
     "execution_count": 18,
     "metadata": {},
     "output_type": "execute_result"
    }
   ],
   "source": [
    "data.isnull().sum()"
   ]
  },
  {
   "cell_type": "code",
   "execution_count": 19,
   "metadata": {},
   "outputs": [],
   "source": [
    "# Check where there are NaNs across 4 feature columns: developer, multiplayer, percent_positive, num_reviews\n",
    "nan_developer = data['developer'].isnull()\n",
    "nan_multiplayer = data['multiplayer'].isnull()\n",
    "nan_percentpositive = data['percent_positive'].isnull()\n",
    "nan_numreviews = data['num_reviews'].isnull()\n",
    "\n",
    "mask =  nan_developer & nan_multiplayer & nan_percentpositive & nan_numreviews\n",
    "data = data[~mask]\n",
    "data.reset_index(drop=True, inplace=True)"
   ]
  },
  {
   "cell_type": "code",
   "execution_count": 20,
   "metadata": {},
   "outputs": [
    {
     "data": {
      "text/html": [
       "<div>\n",
       "<style scoped>\n",
       "    .dataframe tbody tr th:only-of-type {\n",
       "        vertical-align: middle;\n",
       "    }\n",
       "\n",
       "    .dataframe tbody tr th {\n",
       "        vertical-align: top;\n",
       "    }\n",
       "\n",
       "    .dataframe thead th {\n",
       "        text-align: right;\n",
       "    }\n",
       "</style>\n",
       "<table border=\"1\" class=\"dataframe\">\n",
       "  <thead>\n",
       "    <tr style=\"text-align: right;\">\n",
       "      <th></th>\n",
       "      <th>name</th>\n",
       "      <th>developer</th>\n",
       "      <th>percent_positive</th>\n",
       "      <th>num_reviews</th>\n",
       "      <th>multiplayer</th>\n",
       "      <th>mature</th>\n",
       "    </tr>\n",
       "  </thead>\n",
       "  <tbody>\n",
       "    <tr>\n",
       "      <th>0</th>\n",
       "      <td>DOOM</td>\n",
       "      <td>id Software</td>\n",
       "      <td>92.0</td>\n",
       "      <td>42550.0</td>\n",
       "      <td>True</td>\n",
       "      <td>False</td>\n",
       "    </tr>\n",
       "    <tr>\n",
       "      <th>1</th>\n",
       "      <td>PLAYERUNKNOWN'S BATTLEGROUNDS</td>\n",
       "      <td>PUBG Corporation</td>\n",
       "      <td>49.0</td>\n",
       "      <td>836608.0</td>\n",
       "      <td>True</td>\n",
       "      <td>True</td>\n",
       "    </tr>\n",
       "    <tr>\n",
       "      <th>2</th>\n",
       "      <td>BATTLETECH</td>\n",
       "      <td>Harebrained Schemes</td>\n",
       "      <td>71.0</td>\n",
       "      <td>7030.0</td>\n",
       "      <td>True</td>\n",
       "      <td>False</td>\n",
       "    </tr>\n",
       "    <tr>\n",
       "      <th>3</th>\n",
       "      <td>DayZ</td>\n",
       "      <td>Bohemia Interactive</td>\n",
       "      <td>61.0</td>\n",
       "      <td>167115.0</td>\n",
       "      <td>True</td>\n",
       "      <td>False</td>\n",
       "    </tr>\n",
       "    <tr>\n",
       "      <th>4</th>\n",
       "      <td>EVE Online</td>\n",
       "      <td>CCP</td>\n",
       "      <td>74.0</td>\n",
       "      <td>11481.0</td>\n",
       "      <td>True</td>\n",
       "      <td>False</td>\n",
       "    </tr>\n",
       "  </tbody>\n",
       "</table>\n",
       "</div>"
      ],
      "text/plain": [
       "                            name            developer percent_positive  \\\n",
       "0                           DOOM          id Software             92.0   \n",
       "1  PLAYERUNKNOWN'S BATTLEGROUNDS     PUBG Corporation             49.0   \n",
       "2                     BATTLETECH  Harebrained Schemes             71.0   \n",
       "3                           DayZ  Bohemia Interactive             61.0   \n",
       "4                     EVE Online                  CCP             74.0   \n",
       "\n",
       "   num_reviews multiplayer  mature  \n",
       "0      42550.0        True   False  \n",
       "1     836608.0        True    True  \n",
       "2       7030.0        True   False  \n",
       "3     167115.0        True   False  \n",
       "4      11481.0        True   False  "
      ]
     },
     "execution_count": 20,
     "metadata": {},
     "output_type": "execute_result"
    }
   ],
   "source": [
    "data.head()"
   ]
  },
  {
   "cell_type": "code",
   "execution_count": 21,
   "metadata": {},
   "outputs": [],
   "source": [
    "# Encode categorical values\n",
    "categorical_columns = ['name', 'developer', 'multiplayer', 'mature']\n",
    "enc = OrdinalEncoder()\n",
    "data[categorical_columns] = enc.fit_transform(data[categorical_columns])"
   ]
  },
  {
   "cell_type": "code",
   "execution_count": 22,
   "metadata": {},
   "outputs": [
    {
     "data": {
      "text/html": [
       "<div>\n",
       "<style scoped>\n",
       "    .dataframe tbody tr th:only-of-type {\n",
       "        vertical-align: middle;\n",
       "    }\n",
       "\n",
       "    .dataframe tbody tr th {\n",
       "        vertical-align: top;\n",
       "    }\n",
       "\n",
       "    .dataframe thead th {\n",
       "        text-align: right;\n",
       "    }\n",
       "</style>\n",
       "<table border=\"1\" class=\"dataframe\">\n",
       "  <thead>\n",
       "    <tr style=\"text-align: right;\">\n",
       "      <th></th>\n",
       "      <th>name</th>\n",
       "      <th>developer</th>\n",
       "      <th>percent_positive</th>\n",
       "      <th>num_reviews</th>\n",
       "      <th>multiplayer</th>\n",
       "      <th>mature</th>\n",
       "    </tr>\n",
       "  </thead>\n",
       "  <tbody>\n",
       "    <tr>\n",
       "      <th>0</th>\n",
       "      <td>7498.0</td>\n",
       "      <td>16796.0</td>\n",
       "      <td>92.0</td>\n",
       "      <td>42550.0</td>\n",
       "      <td>1.0</td>\n",
       "      <td>0.0</td>\n",
       "    </tr>\n",
       "    <tr>\n",
       "      <th>1</th>\n",
       "      <td>23455.0</td>\n",
       "      <td>10728.0</td>\n",
       "      <td>49.0</td>\n",
       "      <td>836608.0</td>\n",
       "      <td>1.0</td>\n",
       "      <td>1.0</td>\n",
       "    </tr>\n",
       "    <tr>\n",
       "      <th>2</th>\n",
       "      <td>2749.0</td>\n",
       "      <td>6329.0</td>\n",
       "      <td>71.0</td>\n",
       "      <td>7030.0</td>\n",
       "      <td>1.0</td>\n",
       "      <td>0.0</td>\n",
       "    </tr>\n",
       "    <tr>\n",
       "      <th>3</th>\n",
       "      <td>7963.0</td>\n",
       "      <td>2031.0</td>\n",
       "      <td>61.0</td>\n",
       "      <td>167115.0</td>\n",
       "      <td>1.0</td>\n",
       "      <td>0.0</td>\n",
       "    </tr>\n",
       "    <tr>\n",
       "      <th>4</th>\n",
       "      <td>9902.0</td>\n",
       "      <td>2343.0</td>\n",
       "      <td>74.0</td>\n",
       "      <td>11481.0</td>\n",
       "      <td>1.0</td>\n",
       "      <td>0.0</td>\n",
       "    </tr>\n",
       "    <tr>\n",
       "      <th>5</th>\n",
       "      <td>14549.0</td>\n",
       "      <td>12240.0</td>\n",
       "      <td>NaN</td>\n",
       "      <td>NaN</td>\n",
       "      <td>1.0</td>\n",
       "      <td>0.0</td>\n",
       "    </tr>\n",
       "    <tr>\n",
       "      <th>6</th>\n",
       "      <td>8606.0</td>\n",
       "      <td>2332.0</td>\n",
       "      <td>92.0</td>\n",
       "      <td>9645.0</td>\n",
       "      <td>1.0</td>\n",
       "      <td>1.0</td>\n",
       "    </tr>\n",
       "    <tr>\n",
       "      <th>7</th>\n",
       "      <td>16290.0</td>\n",
       "      <td>10141.0</td>\n",
       "      <td>91.0</td>\n",
       "      <td>23763.0</td>\n",
       "      <td>1.0</td>\n",
       "      <td>0.0</td>\n",
       "    </tr>\n",
       "    <tr>\n",
       "      <th>8</th>\n",
       "      <td>35173.0</td>\n",
       "      <td>10282.0</td>\n",
       "      <td>85.0</td>\n",
       "      <td>12127.0</td>\n",
       "      <td>0.0</td>\n",
       "      <td>0.0</td>\n",
       "    </tr>\n",
       "    <tr>\n",
       "      <th>9</th>\n",
       "      <td>38234.0</td>\n",
       "      <td>4440.0</td>\n",
       "      <td>44.0</td>\n",
       "      <td>904.0</td>\n",
       "      <td>1.0</td>\n",
       "      <td>1.0</td>\n",
       "    </tr>\n",
       "  </tbody>\n",
       "</table>\n",
       "</div>"
      ],
      "text/plain": [
       "      name  developer percent_positive  num_reviews  multiplayer  mature\n",
       "0   7498.0    16796.0             92.0      42550.0          1.0     0.0\n",
       "1  23455.0    10728.0             49.0     836608.0          1.0     1.0\n",
       "2   2749.0     6329.0             71.0       7030.0          1.0     0.0\n",
       "3   7963.0     2031.0             61.0     167115.0          1.0     0.0\n",
       "4   9902.0     2343.0             74.0      11481.0          1.0     0.0\n",
       "5  14549.0    12240.0              NaN          NaN          1.0     0.0\n",
       "6   8606.0     2332.0             92.0       9645.0          1.0     1.0\n",
       "7  16290.0    10141.0             91.0      23763.0          1.0     0.0\n",
       "8  35173.0    10282.0             85.0      12127.0          0.0     0.0\n",
       "9  38234.0     4440.0             44.0        904.0          1.0     1.0"
      ]
     },
     "execution_count": 22,
     "metadata": {},
     "output_type": "execute_result"
    }
   ],
   "source": [
    "data.head(10)"
   ]
  },
  {
   "cell_type": "code",
   "execution_count": 23,
   "metadata": {},
   "outputs": [],
   "source": [
    "# Impute missing values using K-nearest neighbour\n",
    "#   Select K nearest or similar data points using all non-missing features\n",
    "#   Take average of the selected data points to impute the missing feature\n",
    "imputer = KNN(verbose=False)\n",
    "data.iloc[:, :] = np.round(imputer.fit_transform(data))"
   ]
  },
  {
   "cell_type": "code",
   "execution_count": 24,
   "metadata": {},
   "outputs": [],
   "source": [
    "# Reverse the ordinal encoding to get the original labels\n",
    "data[categorical_columns] = enc.inverse_transform(data[categorical_columns])"
   ]
  },
  {
   "cell_type": "code",
   "execution_count": 25,
   "metadata": {},
   "outputs": [
    {
     "data": {
      "text/html": [
       "<div>\n",
       "<style scoped>\n",
       "    .dataframe tbody tr th:only-of-type {\n",
       "        vertical-align: middle;\n",
       "    }\n",
       "\n",
       "    .dataframe tbody tr th {\n",
       "        vertical-align: top;\n",
       "    }\n",
       "\n",
       "    .dataframe thead th {\n",
       "        text-align: right;\n",
       "    }\n",
       "</style>\n",
       "<table border=\"1\" class=\"dataframe\">\n",
       "  <thead>\n",
       "    <tr style=\"text-align: right;\">\n",
       "      <th></th>\n",
       "      <th>name</th>\n",
       "      <th>developer</th>\n",
       "      <th>percent_positive</th>\n",
       "      <th>num_reviews</th>\n",
       "      <th>multiplayer</th>\n",
       "      <th>mature</th>\n",
       "    </tr>\n",
       "  </thead>\n",
       "  <tbody>\n",
       "    <tr>\n",
       "      <th>0</th>\n",
       "      <td>DOOM</td>\n",
       "      <td>id Software</td>\n",
       "      <td>92.0</td>\n",
       "      <td>42550.0</td>\n",
       "      <td>True</td>\n",
       "      <td>False</td>\n",
       "    </tr>\n",
       "    <tr>\n",
       "      <th>1</th>\n",
       "      <td>PLAYERUNKNOWN'S BATTLEGROUNDS</td>\n",
       "      <td>PUBG Corporation</td>\n",
       "      <td>49.0</td>\n",
       "      <td>836608.0</td>\n",
       "      <td>True</td>\n",
       "      <td>True</td>\n",
       "    </tr>\n",
       "    <tr>\n",
       "      <th>2</th>\n",
       "      <td>BATTLETECH</td>\n",
       "      <td>Harebrained Schemes</td>\n",
       "      <td>71.0</td>\n",
       "      <td>7030.0</td>\n",
       "      <td>True</td>\n",
       "      <td>False</td>\n",
       "    </tr>\n",
       "    <tr>\n",
       "      <th>3</th>\n",
       "      <td>DayZ</td>\n",
       "      <td>Bohemia Interactive</td>\n",
       "      <td>61.0</td>\n",
       "      <td>167115.0</td>\n",
       "      <td>True</td>\n",
       "      <td>False</td>\n",
       "    </tr>\n",
       "    <tr>\n",
       "      <th>4</th>\n",
       "      <td>EVE Online</td>\n",
       "      <td>CCP</td>\n",
       "      <td>74.0</td>\n",
       "      <td>11481.0</td>\n",
       "      <td>True</td>\n",
       "      <td>False</td>\n",
       "    </tr>\n",
       "  </tbody>\n",
       "</table>\n",
       "</div>"
      ],
      "text/plain": [
       "                            name            developer  percent_positive  \\\n",
       "0                           DOOM          id Software              92.0   \n",
       "1  PLAYERUNKNOWN'S BATTLEGROUNDS     PUBG Corporation              49.0   \n",
       "2                     BATTLETECH  Harebrained Schemes              71.0   \n",
       "3                           DayZ  Bohemia Interactive              61.0   \n",
       "4                     EVE Online                  CCP              74.0   \n",
       "\n",
       "   num_reviews multiplayer mature  \n",
       "0      42550.0        True  False  \n",
       "1     836608.0        True   True  \n",
       "2       7030.0        True  False  \n",
       "3     167115.0        True  False  \n",
       "4      11481.0        True  False  "
      ]
     },
     "execution_count": 25,
     "metadata": {},
     "output_type": "execute_result"
    }
   ],
   "source": [
    "data.head()"
   ]
  },
  {
   "cell_type": "code",
   "execution_count": 26,
   "metadata": {},
   "outputs": [
    {
     "data": {
      "text/plain": [
       "name                0\n",
       "developer           0\n",
       "percent_positive    0\n",
       "num_reviews         0\n",
       "multiplayer         0\n",
       "mature              0\n",
       "dtype: int64"
      ]
     },
     "execution_count": 26,
     "metadata": {},
     "output_type": "execute_result"
    }
   ],
   "source": [
    "# Confirm no missing data\n",
    "data.isnull().sum()"
   ]
  },
  {
   "cell_type": "markdown",
   "metadata": {},
   "source": [
    "## Save data"
   ]
  },
  {
   "cell_type": "code",
   "execution_count": 27,
   "metadata": {},
   "outputs": [],
   "source": [
    "data.to_csv(\"video_games_processed.csv\", index=False)"
   ]
  }
 ],
 "metadata": {
  "interpreter": {
   "hash": "a6131446fa6e2aa3a18dd60ea0228b4a97cedd581566afb11b47d08d5f51eadf"
  },
  "kernelspec": {
   "display_name": "Python 3.8.13 ('py38_default')",
   "language": "python",
   "name": "python3"
  },
  "language_info": {
   "codemirror_mode": {
    "name": "ipython",
    "version": 3
   },
   "file_extension": ".py",
   "mimetype": "text/x-python",
   "name": "python",
   "nbconvert_exporter": "python",
   "pygments_lexer": "ipython3",
   "version": "3.8.13"
  },
  "orig_nbformat": 4
 },
 "nbformat": 4,
 "nbformat_minor": 2
}
